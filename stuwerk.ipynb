{
 "cells": [
  {
   "cell_type": "code",
   "execution_count": 62,
   "metadata": {},
   "outputs": [],
   "source": [
    "import requests,os\n",
    "import pandas as pd\n",
    "from urllib.parse import urljoin\n",
    "from bs4 import BeautifulSoup"
   ]
  },
  {
   "cell_type": "code",
   "execution_count": 2,
   "metadata": {},
   "outputs": [],
   "source": [
    "# Currently has link for Munchen, replace link for different city\n",
    "stuwerk_url=\"https://www.studentenwerk-muenchen.de/en/accommodation/private-accommodation-service/offers/#tx_stwmprivatzimmervermittlung_muenchen\""
   ]
  },
  {
   "cell_type": "code",
   "execution_count": 15,
   "metadata": {},
   "outputs": [],
   "source": [
    "response= requests.get(stuwerk_url)\n",
    "soup = BeautifulSoup(response.content, 'html.parser')"
   ]
  },
  {
   "cell_type": "code",
   "execution_count": 18,
   "metadata": {},
   "outputs": [
    {
     "name": "stdout",
     "output_type": "stream",
     "text": [
      "42\n"
     ]
    }
   ],
   "source": [
    "# Find all offers in Munchen\n",
    "offers_munchen = soup.find_all(\"td\", {\"class\": \"angebotsnummer selected\"})\n",
    "print(len(offers_munchen))"
   ]
  },
  {
   "cell_type": "code",
   "execution_count": 67,
   "metadata": {},
   "outputs": [],
   "source": [
    "# Writes each offer into a dataframe\n",
    "base_url = \"https://www.studentenwerk-muenchen.de/\"\n",
    "df = pd.DataFrame()\n",
    "i=0\n",
    "for offer in offers_munchen:\n",
    "    link = offer.findAll(href=True)\n",
    "    data_sheet = requests.get(urljoin(base_url,link[0]['href']))\n",
    "    soup1 = BeautifulSoup(data_sheet.content, 'html.parser')\n",
    "    \n",
    "    for field in soup1.find_all('li',{\"class\": \"o-media\"}):\n",
    "    \n",
    "        header = str.strip(field.find_all('span',{'class':'o-media__img c-stwm-privatzimmervermittlung__label'})[0].contents[0])[:-1]\n",
    "        try:\n",
    "            content = str.strip(field.find_all('span',{'class':'o-media__body'})[0].contents[0])\n",
    "        except:\n",
    "            content= \"\"\n",
    "        df.loc[i,header] = content\n",
    "\n",
    "    i+=1    "
   ]
  },
  {
   "cell_type": "code",
   "execution_count": 68,
   "metadata": {},
   "outputs": [],
   "source": [
    "df.to_csv(\"Stuwerk_Munich_private.csv\",index=False)"
   ]
  }
 ],
 "metadata": {
  "interpreter": {
   "hash": "b3ba2566441a7c06988d0923437866b63cedc61552a5af99d1f4fb67d367b25f"
  },
  "kernelspec": {
   "display_name": "Python 3.8.3 ('base')",
   "language": "python",
   "name": "python3"
  },
  "language_info": {
   "codemirror_mode": {
    "name": "ipython",
    "version": 3
   },
   "file_extension": ".py",
   "mimetype": "text/x-python",
   "name": "python",
   "nbconvert_exporter": "python",
   "pygments_lexer": "ipython3",
   "version": "3.8.3"
  },
  "orig_nbformat": 4
 },
 "nbformat": 4,
 "nbformat_minor": 2
}
